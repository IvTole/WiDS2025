{
 "cells": [
  {
   "cell_type": "code",
   "execution_count": null,
   "id": "4cb130d4",
   "metadata": {},
   "outputs": [],
   "source": [
    "#Imported libraries.\n",
    "from sklearn.linear_model import LogisticRegression\n",
    "from sklearn.ensemble import RandomForestClassifier\n",
    "\n",
    "#Parameters of each model.\n",
    "model_params = {\n",
    "    \"lr\": {\n",
    "        \"solver\": \"lbfgs\",\n",
    "        \"max_iter\": 5000\n",
    "    },\n",
    "\n",
    "    \"rf\": {\n",
    "        \"n_estimators\": 1000,\n",
    "        \"criterion\": \"gini\",\n",
    "        \"max_depth\": 10,\n",
    "        \"random_state\": 42,\n",
    "        \"bootstrap\": True\n",
    "    }\n",
    "}\n",
    "\n",
    "#Functions to call each model.\n",
    "def get_lr():\n",
    "    return LogisticRegression(**model_params['lr'])\n",
    "\n",
    "def get_rf():\n",
    "    return RandomForestClassifier(**model_params['rf'])"
   ]
  }
 ],
 "metadata": {
  "language_info": {
   "name": "python"
  }
 },
 "nbformat": 4,
 "nbformat_minor": 5
}
