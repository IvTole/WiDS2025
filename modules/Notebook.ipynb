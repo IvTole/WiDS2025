{
 "cells": [
  {
   "cell_type": "code",
   "execution_count": 1,
   "id": "ae7a76f9",
   "metadata": {},
   "outputs": [
    {
     "name": "stdout",
     "output_type": "stream",
     "text": [
      "Plots directory found in  ../plots\n"
     ]
    }
   ],
   "source": [
    "# Standar libraries\n",
    "from datetime import datetime\n",
    "\n",
    "# Scikit learn\n",
    "from sklearn.model_selection import train_test_split, GridSearchCV\n",
    "from sklearn.ensemble import RandomForestClassifier\n",
    "from sklearn.linear_model import LogisticRegression\n",
    "from sklearn.neighbors import KNeighborsClassifier\n",
    "from sklearn.tree import DecisionTreeClassifier\n",
    "from sklearn.decomposition import PCA\n",
    "\n",
    "\n",
    "\n",
    "# External modules\n",
    "from module_path import test_data_path, train_data_path, plots_data_path\n",
    "from module_data import Dataset\n",
    "from module_graph import graph_tree\n",
    "from module_model import ModelEvaluation, ModelEvaluationXG, ModelSubmission\n",
    "from model_params2 import Models"
   ]
  },
  {
   "cell_type": "code",
   "execution_count": 2,
   "id": "607b0f2a",
   "metadata": {},
   "outputs": [
    {
     "name": "stdout",
     "output_type": "stream",
     "text": [
      "Start date & time :  2025-04-30 16:25:13\n",
      "Train data directory found in  ../data/TRAIN_NEW\n",
      "Test data directory found in  ../data/TEST\n",
      "NaN values processed for every dataset by kNNImputer algorithm considering 5 neighbors.\n"
     ]
    }
   ],
   "source": [
    "# get current date and time\n",
    "start_datetime = datetime.now().strftime(\"%Y-%m-%d %H:%M:%S\")\n",
    "print(\"Start date & time : \", start_datetime)\n",
    "\n",
    "# create a Dataset object\n",
    "df = Dataset(data_imputed = True, \n",
    "                data_standarized = False, \n",
    "                relevant_data = False)\n",
    "\n",
    "# train dataframe, test dataframe, y targets dataframe\n",
    "df_train, df_test, labels = df.process()"
   ]
  },
  {
   "cell_type": "code",
   "execution_count": 3,
   "id": "fe504dd4",
   "metadata": {},
   "outputs": [],
   "source": [
    "# define array of target variables for the model\n",
    "targets = ['ADHD_Outcome',  'Sex_F']\n",
    "\n",
    "# Create the hiperparameters grid for the GridSearchCV\n",
    "param_grid_lr = {\n",
    "'C': [0.1, 1.0, 10.0],\n",
    "'solver': ['lbfgs', 'liblinear'],\n",
    "}\n",
    "\n",
    "param_grid_rf = {\n",
    "'n_estimators': [100, 500, 1000],\n",
    "'max_depth': [3, 5, 10, 20],\n",
    "'bootstrap': [True, False],\n",
    "'criterion': ['gini', 'entropy']\n",
    "}\n",
    "\n",
    "iteraciones = 5000\n",
    "\n",
    "scoring = 'f1'"
   ]
  },
  {
   "cell_type": "code",
   "execution_count": 4,
   "id": "f5e6ae98",
   "metadata": {},
   "outputs": [],
   "source": [
    "lr_model = Models(X = df_train, \n",
    "                  y1 = labels[targets[0]],\n",
    "                  y2 = labels[targets[1]], \n",
    "                  tag1 = 'adhd',\n",
    "                  tag2 = 'sex_f', \n",
    "                  )"
   ]
  },
  {
   "cell_type": "code",
   "execution_count": 8,
   "id": "5bb054fc",
   "metadata": {},
   "outputs": [
    {
     "name": "stdout",
     "output_type": "stream",
     "text": [
      "Mlruns directory found in  ../mlruns\n",
      "\n",
      "Model evaluation: LogisticRegression - adhd\n",
      "\n",
      "Confusion matrix (adhd):\n",
      "[[ 68  53]\n",
      " [ 22 221]]\n",
      "\n",
      "F1_score  : 0.85\n",
      "Accuracy  : 0.79\n",
      "Precision : 0.81\n",
      "Recall    : 0.91\n",
      "Mlruns directory found in  ../mlruns\n",
      "\n",
      "Model evaluation: LogisticRegression - sex_f\n",
      "\n",
      "Confusion matrix (sex_f):\n",
      "[[214  40]\n",
      " [ 73  37]]\n",
      "\n",
      "F1_score  : 0.40\n",
      "Accuracy  : 0.69\n",
      "Precision : 0.48\n",
      "Recall    : 0.34\n"
     ]
    }
   ],
   "source": [
    "lr_adhd, lr_sex_f = lr_model.log_regression(gridsearch = False,\n",
    "                                                param_grid = param_grid_lr,\n",
    "                                                scoring = 'f1',\n",
    "                                                cv = 5,\n",
    "                                           model_evaluation=True,\n",
    "                                                max_iter = 5000,\n",
    "                                                solver = 'lbfgs')"
   ]
  },
  {
   "cell_type": "code",
   "execution_count": 9,
   "id": "b5489de8",
   "metadata": {},
   "outputs": [
    {
     "name": "stdout",
     "output_type": "stream",
     "text": [
      "Ejecutando GridSearchCV para RandomForestClassifier - adhd\n",
      "\n",
      "Mejores hiperparámetros para adhd:\n",
      "  bootstrap: True\n",
      "  criterion: entropy\n",
      "  max_depth: 5\n",
      "  n_estimators: 1000\n",
      "Mlruns directory found in  ../mlruns\n",
      "\n",
      "Model evaluation: RandomForestClassifier - adhd\n",
      "\n",
      "Confusion matrix (adhd):\n",
      "[[ 59  62]\n",
      " [ 18 225]]\n",
      "\n",
      "F1_score  : 0.85\n",
      "Accuracy  : 0.78\n",
      "Precision : 0.78\n",
      "Recall    : 0.93\n",
      "Ejecutando GridSearchCV para RandomForestClassifier - sex_f\n",
      "\n",
      "Mejores hiperparámetros para sex_f:\n",
      "  bootstrap: False\n",
      "  criterion: gini\n",
      "  max_depth: 20\n",
      "  n_estimators: 1000\n",
      "Mlruns directory found in  ../mlruns\n",
      "\n",
      "Model evaluation: RandomForestClassifier - sex_f\n",
      "\n",
      "Confusion matrix (sex_f):\n",
      "[[219  35]\n",
      " [ 87  23]]\n",
      "\n",
      "F1_score  : 0.27\n",
      "Accuracy  : 0.66\n",
      "Precision : 0.40\n",
      "Recall    : 0.21\n"
     ]
    }
   ],
   "source": [
    "rf_adhd, rf_sex_f = lr_model.random_forest(gridsearch = True,\n",
    "                                               param_grid = param_grid_rf,\n",
    "                                               scoring = 'f1',\n",
    "                                               cv = 5,\n",
    "                                           model_evaluation=True,\n",
    "                                               n_estimators = 1000,\n",
    "                                               criterion = \"gini\",\n",
    "                                               max_depth = 10,\n",
    "                                               random_state = 42,\n",
    "                                               bootstrap = True)"
   ]
  }
 ],
 "metadata": {
  "kernelspec": {
   "display_name": "tsi_ml_env",
   "language": "python",
   "name": "python3"
  },
  "language_info": {
   "codemirror_mode": {
    "name": "ipython",
    "version": 3
   },
   "file_extension": ".py",
   "mimetype": "text/x-python",
   "name": "python",
   "nbconvert_exporter": "python",
   "pygments_lexer": "ipython3",
   "version": "3.10.16"
  }
 },
 "nbformat": 4,
 "nbformat_minor": 5
}
