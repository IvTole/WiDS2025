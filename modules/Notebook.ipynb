{
 "cells": [
  {
   "cell_type": "code",
   "execution_count": 1,
   "id": "ae7a76f9",
   "metadata": {},
   "outputs": [
    {
     "name": "stdout",
     "output_type": "stream",
     "text": [
      "Plots directory found in  ../plots\n"
     ]
    }
   ],
   "source": [
    "# Standar libraries\n",
    "from datetime import datetime\n",
    "\n",
    "# Scikit learn\n",
    "from sklearn.model_selection import train_test_split, GridSearchCV\n",
    "from sklearn.ensemble import RandomForestClassifier\n",
    "from sklearn.linear_model import LogisticRegression\n",
    "from sklearn.neighbors import KNeighborsClassifier\n",
    "from sklearn.tree import DecisionTreeClassifier\n",
    "from sklearn.decomposition import PCA\n",
    "\n",
    "\n",
    "\n",
    "# External modules\n",
    "from module_path import test_data_path, train_data_path, plots_data_path\n",
    "from module_data import Dataset\n",
    "from module_graph import graph_tree\n",
    "from module_model import ModelEvaluation, ModelEvaluationXG, ModelSubmission\n",
    "from model_params2 import Models"
   ]
  },
  {
   "cell_type": "code",
   "execution_count": 2,
   "id": "607b0f2a",
   "metadata": {},
   "outputs": [
    {
     "name": "stdout",
     "output_type": "stream",
     "text": [
      "Start date & time :  2025-04-30 13:52:56\n",
      "Train data directory found in  ../data/TRAIN_NEW\n",
      "Test data directory found in  ../data/TEST\n",
      "NaN values processed for every dataset by kNNImputer algorithm considering 5 neighbors.\n"
     ]
    }
   ],
   "source": [
    "# get current date and time\n",
    "start_datetime = datetime.now().strftime(\"%Y-%m-%d %H:%M:%S\")\n",
    "print(\"Start date & time : \", start_datetime)\n",
    "\n",
    "# create a Dataset object\n",
    "df = Dataset(data_imputed = True, \n",
    "                data_standarized = False, \n",
    "                relevant_data = False)\n",
    "\n",
    "# train dataframe, test dataframe, y targets dataframe\n",
    "df_train, df_test, labels = df.process()"
   ]
  },
  {
   "cell_type": "code",
   "execution_count": 3,
   "id": "fe504dd4",
   "metadata": {},
   "outputs": [],
   "source": [
    "# define array of target variables for the model\n",
    "targets = ['ADHD_Outcome',  'Sex_F']\n",
    "\n",
    "# Create the hiperparameters grid for the GridSearchCV\n",
    "param_grid_lr = {\n",
    "'C': [0.1, 1.0, 10.0],\n",
    "'solver': ['lbfgs', 'liblinear'],\n",
    "}\n",
    "\n",
    "param_grid_rf = {\n",
    "'n_estimators': [100, 500, 1000],\n",
    "'max_depth': [3, 5, 10, 20],\n",
    "'bootstrap': [True, False],\n",
    "'criterion': ['gini', 'entropy']\n",
    "}\n",
    "\n",
    "iteraciones = 5000\n",
    "\n",
    "scoring = 'f1'"
   ]
  },
  {
   "cell_type": "code",
   "execution_count": 4,
   "id": "f5e6ae98",
   "metadata": {},
   "outputs": [],
   "source": [
    "lr_adhd = Models(X = df_train, \n",
    "                 y = labels[targets[0]], \n",
    "                 tag = 'adhd', \n",
    "                 test_size = 0.3, \n",
    "                 shuffle = True, \n",
    "                 random_state = 42)"
   ]
  },
  {
   "cell_type": "code",
   "execution_count": 5,
   "id": "5bb054fc",
   "metadata": {},
   "outputs": [],
   "source": [
    "model_lr_adhd = lr_adhd.log_regression(gridsearch = False,\n",
    "                                           max_iter = 5000,\n",
    "                                           param_grid = None,\n",
    "                                           scoring = 'f1',\n",
    "                                           cv = 5,\n",
    "                                       model_evaluation = False)"
   ]
  },
  {
   "cell_type": "code",
   "execution_count": 6,
   "id": "66b1e25a",
   "metadata": {},
   "outputs": [
    {
     "data": {
      "text/plain": [
       "sklearn.linear_model._logistic.LogisticRegression"
      ]
     },
     "execution_count": 6,
     "metadata": {},
     "output_type": "execute_result"
    }
   ],
   "source": [
    "model_lr_adhd.model"
   ]
  },
  {
   "cell_type": "code",
   "execution_count": null,
   "id": "944973aa",
   "metadata": {},
   "outputs": [],
   "source": [
    " # evaluate model Logistic Regression (adhd)\n",
    "lr_adhd = ModelEvaluation(X=df_train, y=labels[targets[0]], tag='adhd')\n",
    "best_model_lr_adhd, f1_lr = lr_adhd.evaluate_with_gridsearch(\n",
    "                                                            base_model=LogisticRegression(max_iter=5000),\n",
    "                                                            param_grid=param_grid_lr,\n",
    "                                                            scoring='f1'\n",
    "                                                            )\n",
    "\n",
    "# evaluate model Logistic Regression (sex_f)\n",
    "lr_sex_f = ModelEvaluation(X=df_train, y=labels[targets[1]], tag='sex_f')\n",
    "best_model_lr_sex_f, f1_lr = lr_sex_f.evaluate_with_gridsearch(\n",
    "                                                            base_model=LogisticRegression(max_iter=5000),\n",
    "                                                            param_grid=param_grid_lr,\n",
    "                                                            scoring='f1'\n",
    "                                                            )\n"
   ]
  }
 ],
 "metadata": {
  "kernelspec": {
   "display_name": "tsi_ml_env",
   "language": "python",
   "name": "python3"
  },
  "language_info": {
   "codemirror_mode": {
    "name": "ipython",
    "version": 3
   },
   "file_extension": ".py",
   "mimetype": "text/x-python",
   "name": "python",
   "nbconvert_exporter": "python",
   "pygments_lexer": "ipython3",
   "version": "3.10.16"
  }
 },
 "nbformat": 4,
 "nbformat_minor": 5
}
