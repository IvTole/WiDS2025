{
 "cells": [
  {
   "cell_type": "code",
   "execution_count": 1,
   "id": "ae7a76f9",
   "metadata": {},
   "outputs": [
    {
     "name": "stdout",
     "output_type": "stream",
     "text": [
      "Plots directory found in  ../plots\n"
     ]
    }
   ],
   "source": [
    "# Standar libraries\n",
    "from datetime import datetime\n",
    "\n",
    "# Scikit learn\n",
    "from sklearn.model_selection import train_test_split, GridSearchCV\n",
    "from sklearn.ensemble import RandomForestClassifier\n",
    "from sklearn.linear_model import LogisticRegression\n",
    "from sklearn.neighbors import KNeighborsClassifier\n",
    "from sklearn.tree import DecisionTreeClassifier\n",
    "from sklearn.decomposition import PCA\n",
    "\n",
    "\n",
    "\n",
    "# External modules\n",
    "from module_path import test_data_path, train_data_path, plots_data_path\n",
    "from module_data import Dataset\n",
    "from module_graph import graph_tree\n",
    "from module_model import ModelEvaluation, ModelEvaluationXG, ModelSubmission\n"
   ]
  },
  {
   "cell_type": "code",
   "execution_count": 4,
   "id": "607b0f2a",
   "metadata": {},
   "outputs": [
    {
     "name": "stdout",
     "output_type": "stream",
     "text": [
      "Start date & time :  2025-04-29 00:49:27\n",
      "Train data directory found in  ../data/TRAIN_NEW\n",
      "Test data directory found in  ../data/TEST\n",
      "NaN values processed for every dataset by kNNImputer algorithm considering 5 neighbors.\n"
     ]
    }
   ],
   "source": [
    "\n",
    "# get current date and time\n",
    "start_datetime = datetime.now().strftime(\"%Y-%m-%d %H:%M:%S\")\n",
    "print(\"Start date & time : \", start_datetime)\n",
    "\n",
    "# create a Dataset object\n",
    "df = Dataset(data_imputed = True, \n",
    "                data_standarized = False, \n",
    "                relevant_data = False)\n",
    "\n",
    "# train dataframe, test dataframe, y targets dataframe\n",
    "df_train, df_test, labels = df.process()"
   ]
  }
 ],
 "metadata": {
  "kernelspec": {
   "display_name": "tsi_ml_env",
   "language": "python",
   "name": "python3"
  },
  "language_info": {
   "codemirror_mode": {
    "name": "ipython",
    "version": 3
   },
   "file_extension": ".py",
   "mimetype": "text/x-python",
   "name": "python",
   "nbconvert_exporter": "python",
   "pygments_lexer": "ipython3",
   "version": "3.10.16"
  }
 },
 "nbformat": 4,
 "nbformat_minor": 5
}
